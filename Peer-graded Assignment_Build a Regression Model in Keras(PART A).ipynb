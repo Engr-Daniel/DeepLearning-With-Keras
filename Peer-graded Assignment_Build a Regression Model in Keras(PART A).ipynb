{
 "cells": [
  {
   "cell_type": "markdown",
   "id": "ea3d0b9c",
   "metadata": {},
   "source": [
    "### PART A: Build a baseline model "
   ]
  },
  {
   "cell_type": "markdown",
   "id": "d76faa01",
   "metadata": {},
   "source": [
    "#### Download and Clean Dataset\n",
    "\n",
    "[Dataset Link](https://cocl.us/concrete_data)"
   ]
  },
  {
   "cell_type": "markdown",
   "id": "ccd6fa07",
   "metadata": {},
   "source": [
    "The dataset is about the compressive strength of different samples of concrete based on the volumes of the different ingredients that were used to make them.\n",
    "\n",
    "The predictors(ingredients) in the data of concrete strength include:\n",
    "\n",
    "1. **Cement**\n",
    "\n",
    "2. **Blast Furnace Slag**\n",
    "\n",
    "3. **Fly Ash**\n",
    "\n",
    "4. **Water**\n",
    "\n",
    "5. **Superplasticizer**\n",
    "\n",
    "6. **Coarse Aggregate**\n",
    "\n",
    "7. **Fine Aggregate**"
   ]
  },
  {
   "cell_type": "code",
   "execution_count": 1,
   "id": "a268ab78",
   "metadata": {},
   "outputs": [],
   "source": [
    "# Importing Numpy and Pandas Libraries to read the dataset\n",
    "\n",
    "import pandas as pd\n",
    "import numpy as np"
   ]
  },
  {
   "cell_type": "code",
   "execution_count": 2,
   "id": "be18f3c8",
   "metadata": {},
   "outputs": [
    {
     "data": {
      "text/html": [
       "<div>\n",
       "<style scoped>\n",
       "    .dataframe tbody tr th:only-of-type {\n",
       "        vertical-align: middle;\n",
       "    }\n",
       "\n",
       "    .dataframe tbody tr th {\n",
       "        vertical-align: top;\n",
       "    }\n",
       "\n",
       "    .dataframe thead th {\n",
       "        text-align: right;\n",
       "    }\n",
       "</style>\n",
       "<table border=\"1\" class=\"dataframe\">\n",
       "  <thead>\n",
       "    <tr style=\"text-align: right;\">\n",
       "      <th></th>\n",
       "      <th>Cement</th>\n",
       "      <th>Blast Furnace Slag</th>\n",
       "      <th>Fly Ash</th>\n",
       "      <th>Water</th>\n",
       "      <th>Superplasticizer</th>\n",
       "      <th>Coarse Aggregate</th>\n",
       "      <th>Fine Aggregate</th>\n",
       "      <th>Age</th>\n",
       "      <th>Strength</th>\n",
       "    </tr>\n",
       "  </thead>\n",
       "  <tbody>\n",
       "    <tr>\n",
       "      <th>0</th>\n",
       "      <td>540.0</td>\n",
       "      <td>0.0</td>\n",
       "      <td>0.0</td>\n",
       "      <td>162.0</td>\n",
       "      <td>2.5</td>\n",
       "      <td>1040.0</td>\n",
       "      <td>676.0</td>\n",
       "      <td>28</td>\n",
       "      <td>79.99</td>\n",
       "    </tr>\n",
       "    <tr>\n",
       "      <th>1</th>\n",
       "      <td>540.0</td>\n",
       "      <td>0.0</td>\n",
       "      <td>0.0</td>\n",
       "      <td>162.0</td>\n",
       "      <td>2.5</td>\n",
       "      <td>1055.0</td>\n",
       "      <td>676.0</td>\n",
       "      <td>28</td>\n",
       "      <td>61.89</td>\n",
       "    </tr>\n",
       "    <tr>\n",
       "      <th>2</th>\n",
       "      <td>332.5</td>\n",
       "      <td>142.5</td>\n",
       "      <td>0.0</td>\n",
       "      <td>228.0</td>\n",
       "      <td>0.0</td>\n",
       "      <td>932.0</td>\n",
       "      <td>594.0</td>\n",
       "      <td>270</td>\n",
       "      <td>40.27</td>\n",
       "    </tr>\n",
       "    <tr>\n",
       "      <th>3</th>\n",
       "      <td>332.5</td>\n",
       "      <td>142.5</td>\n",
       "      <td>0.0</td>\n",
       "      <td>228.0</td>\n",
       "      <td>0.0</td>\n",
       "      <td>932.0</td>\n",
       "      <td>594.0</td>\n",
       "      <td>365</td>\n",
       "      <td>41.05</td>\n",
       "    </tr>\n",
       "    <tr>\n",
       "      <th>4</th>\n",
       "      <td>198.6</td>\n",
       "      <td>132.4</td>\n",
       "      <td>0.0</td>\n",
       "      <td>192.0</td>\n",
       "      <td>0.0</td>\n",
       "      <td>978.4</td>\n",
       "      <td>825.5</td>\n",
       "      <td>360</td>\n",
       "      <td>44.30</td>\n",
       "    </tr>\n",
       "  </tbody>\n",
       "</table>\n",
       "</div>"
      ],
      "text/plain": [
       "   Cement  Blast Furnace Slag  Fly Ash  Water  Superplasticizer  \\\n",
       "0   540.0                 0.0      0.0  162.0               2.5   \n",
       "1   540.0                 0.0      0.0  162.0               2.5   \n",
       "2   332.5               142.5      0.0  228.0               0.0   \n",
       "3   332.5               142.5      0.0  228.0               0.0   \n",
       "4   198.6               132.4      0.0  192.0               0.0   \n",
       "\n",
       "   Coarse Aggregate  Fine Aggregate  Age  Strength  \n",
       "0            1040.0           676.0   28     79.99  \n",
       "1            1055.0           676.0   28     61.89  \n",
       "2             932.0           594.0  270     40.27  \n",
       "3             932.0           594.0  365     41.05  \n",
       "4             978.4           825.5  360     44.30  "
      ]
     },
     "execution_count": 2,
     "metadata": {},
     "output_type": "execute_result"
    }
   ],
   "source": [
    "# Reading the dataset into a pandas Dataframe\n",
    "\n",
    "concrete_data = pd.read_csv(\"concrete_data.csv\")\n",
    "concrete_data.head()"
   ]
  },
  {
   "cell_type": "code",
   "execution_count": 3,
   "id": "ef4dfbc9",
   "metadata": {
    "scrolled": true
   },
   "outputs": [
    {
     "name": "stdout",
     "output_type": "stream",
     "text": [
      "Datasetshape is: (1030, 9)\n",
      "Cement                0\n",
      "Blast Furnace Slag    0\n",
      "Fly Ash               0\n",
      "Water                 0\n",
      "Superplasticizer      0\n",
      "Coarse Aggregate      0\n",
      "Fine Aggregate        0\n",
      "Age                   0\n",
      "Strength              0\n",
      "dtype: int64\n"
     ]
    },
    {
     "data": {
      "text/html": [
       "<div>\n",
       "<style scoped>\n",
       "    .dataframe tbody tr th:only-of-type {\n",
       "        vertical-align: middle;\n",
       "    }\n",
       "\n",
       "    .dataframe tbody tr th {\n",
       "        vertical-align: top;\n",
       "    }\n",
       "\n",
       "    .dataframe thead th {\n",
       "        text-align: right;\n",
       "    }\n",
       "</style>\n",
       "<table border=\"1\" class=\"dataframe\">\n",
       "  <thead>\n",
       "    <tr style=\"text-align: right;\">\n",
       "      <th></th>\n",
       "      <th>Cement</th>\n",
       "      <th>Blast Furnace Slag</th>\n",
       "      <th>Fly Ash</th>\n",
       "      <th>Water</th>\n",
       "      <th>Superplasticizer</th>\n",
       "      <th>Coarse Aggregate</th>\n",
       "      <th>Fine Aggregate</th>\n",
       "      <th>Age</th>\n",
       "      <th>Strength</th>\n",
       "    </tr>\n",
       "  </thead>\n",
       "  <tbody>\n",
       "    <tr>\n",
       "      <th>count</th>\n",
       "      <td>1030.000000</td>\n",
       "      <td>1030.000000</td>\n",
       "      <td>1030.000000</td>\n",
       "      <td>1030.000000</td>\n",
       "      <td>1030.000000</td>\n",
       "      <td>1030.000000</td>\n",
       "      <td>1030.000000</td>\n",
       "      <td>1030.000000</td>\n",
       "      <td>1030.000000</td>\n",
       "    </tr>\n",
       "    <tr>\n",
       "      <th>mean</th>\n",
       "      <td>281.167864</td>\n",
       "      <td>73.895825</td>\n",
       "      <td>54.188350</td>\n",
       "      <td>181.567282</td>\n",
       "      <td>6.204660</td>\n",
       "      <td>972.918932</td>\n",
       "      <td>773.580485</td>\n",
       "      <td>45.662136</td>\n",
       "      <td>35.817961</td>\n",
       "    </tr>\n",
       "    <tr>\n",
       "      <th>std</th>\n",
       "      <td>104.506364</td>\n",
       "      <td>86.279342</td>\n",
       "      <td>63.997004</td>\n",
       "      <td>21.354219</td>\n",
       "      <td>5.973841</td>\n",
       "      <td>77.753954</td>\n",
       "      <td>80.175980</td>\n",
       "      <td>63.169912</td>\n",
       "      <td>16.705742</td>\n",
       "    </tr>\n",
       "    <tr>\n",
       "      <th>min</th>\n",
       "      <td>102.000000</td>\n",
       "      <td>0.000000</td>\n",
       "      <td>0.000000</td>\n",
       "      <td>121.800000</td>\n",
       "      <td>0.000000</td>\n",
       "      <td>801.000000</td>\n",
       "      <td>594.000000</td>\n",
       "      <td>1.000000</td>\n",
       "      <td>2.330000</td>\n",
       "    </tr>\n",
       "    <tr>\n",
       "      <th>25%</th>\n",
       "      <td>192.375000</td>\n",
       "      <td>0.000000</td>\n",
       "      <td>0.000000</td>\n",
       "      <td>164.900000</td>\n",
       "      <td>0.000000</td>\n",
       "      <td>932.000000</td>\n",
       "      <td>730.950000</td>\n",
       "      <td>7.000000</td>\n",
       "      <td>23.710000</td>\n",
       "    </tr>\n",
       "    <tr>\n",
       "      <th>50%</th>\n",
       "      <td>272.900000</td>\n",
       "      <td>22.000000</td>\n",
       "      <td>0.000000</td>\n",
       "      <td>185.000000</td>\n",
       "      <td>6.400000</td>\n",
       "      <td>968.000000</td>\n",
       "      <td>779.500000</td>\n",
       "      <td>28.000000</td>\n",
       "      <td>34.445000</td>\n",
       "    </tr>\n",
       "    <tr>\n",
       "      <th>75%</th>\n",
       "      <td>350.000000</td>\n",
       "      <td>142.950000</td>\n",
       "      <td>118.300000</td>\n",
       "      <td>192.000000</td>\n",
       "      <td>10.200000</td>\n",
       "      <td>1029.400000</td>\n",
       "      <td>824.000000</td>\n",
       "      <td>56.000000</td>\n",
       "      <td>46.135000</td>\n",
       "    </tr>\n",
       "    <tr>\n",
       "      <th>max</th>\n",
       "      <td>540.000000</td>\n",
       "      <td>359.400000</td>\n",
       "      <td>200.100000</td>\n",
       "      <td>247.000000</td>\n",
       "      <td>32.200000</td>\n",
       "      <td>1145.000000</td>\n",
       "      <td>992.600000</td>\n",
       "      <td>365.000000</td>\n",
       "      <td>82.600000</td>\n",
       "    </tr>\n",
       "  </tbody>\n",
       "</table>\n",
       "</div>"
      ],
      "text/plain": [
       "            Cement  Blast Furnace Slag      Fly Ash        Water  \\\n",
       "count  1030.000000         1030.000000  1030.000000  1030.000000   \n",
       "mean    281.167864           73.895825    54.188350   181.567282   \n",
       "std     104.506364           86.279342    63.997004    21.354219   \n",
       "min     102.000000            0.000000     0.000000   121.800000   \n",
       "25%     192.375000            0.000000     0.000000   164.900000   \n",
       "50%     272.900000           22.000000     0.000000   185.000000   \n",
       "75%     350.000000          142.950000   118.300000   192.000000   \n",
       "max     540.000000          359.400000   200.100000   247.000000   \n",
       "\n",
       "       Superplasticizer  Coarse Aggregate  Fine Aggregate          Age  \\\n",
       "count       1030.000000       1030.000000     1030.000000  1030.000000   \n",
       "mean           6.204660        972.918932      773.580485    45.662136   \n",
       "std            5.973841         77.753954       80.175980    63.169912   \n",
       "min            0.000000        801.000000      594.000000     1.000000   \n",
       "25%            0.000000        932.000000      730.950000     7.000000   \n",
       "50%            6.400000        968.000000      779.500000    28.000000   \n",
       "75%           10.200000       1029.400000      824.000000    56.000000   \n",
       "max           32.200000       1145.000000      992.600000   365.000000   \n",
       "\n",
       "          Strength  \n",
       "count  1030.000000  \n",
       "mean     35.817961  \n",
       "std      16.705742  \n",
       "min       2.330000  \n",
       "25%      23.710000  \n",
       "50%      34.445000  \n",
       "75%      46.135000  \n",
       "max      82.600000  "
      ]
     },
     "execution_count": 3,
     "metadata": {},
     "output_type": "execute_result"
    }
   ],
   "source": [
    "# Checking infomation about the DataSet\n",
    "\n",
    "print(f\"Datasetshape is: {concrete_data.shape}\")\n",
    "print(concrete_data.isnull().sum())\n",
    "concrete_data.describe()"
   ]
  },
  {
   "cell_type": "markdown",
   "id": "6631f7ea",
   "metadata": {},
   "source": [
    "The data looks very clean and is ready to be used to build a model."
   ]
  },
  {
   "cell_type": "markdown",
   "id": "ff8e8e26",
   "metadata": {},
   "source": [
    "## PART A: Build a baseline model (5 marks) \n",
    "\n",
    "Use the Keras library to build a neural network with the following:\n",
    "\n",
    "- One hidden layer of 10 nodes, and a ReLU activation function\n",
    "\n",
    "- Use the adam optimizer and the mean squared error  as the loss function.\n",
    "\n",
    "1. **Randomly split the data into a training and test sets by holding 30% of the data for testing. You can use the train_test_splithelper function from Scikit-learn.**\n",
    "\n",
    "2. **Train the model on the training data using 50 epochs.**\n",
    "\n",
    "3. **Evaluate the model on the test data and compute the mean squared error between the predicted concrete strength and the actual concrete strength. You can use the mean_squared_error function from Scikit-learn.**\n",
    "\n",
    "4. **Repeat steps 1 - 3, 50 times, i.e., create a list of 50 mean squared errors.**\n",
    "\n",
    "5. **Report the mean and the standard deviation of the mean squared errors.**\n",
    "\n",
    "Submit your Jupyter Notebook with your code and comments."
   ]
  },
  {
   "cell_type": "markdown",
   "id": "5d9b1242",
   "metadata": {},
   "source": [
    "###### Split Dataset into Preditors and Target"
   ]
  },
  {
   "cell_type": "code",
   "execution_count": 4,
   "id": "015b5f7b",
   "metadata": {},
   "outputs": [],
   "source": [
    "concrete_data_columns = concrete_data.columns\n",
    "predictors = concrete_data[concrete_data_columns[concrete_data_columns != 'Strength']] # all columns except Strength\n",
    "target = concrete_data['Strength'] # Strength column"
   ]
  },
  {
   "cell_type": "code",
   "execution_count": 5,
   "id": "ea34be3a",
   "metadata": {},
   "outputs": [
    {
     "data": {
      "text/html": [
       "<div>\n",
       "<style scoped>\n",
       "    .dataframe tbody tr th:only-of-type {\n",
       "        vertical-align: middle;\n",
       "    }\n",
       "\n",
       "    .dataframe tbody tr th {\n",
       "        vertical-align: top;\n",
       "    }\n",
       "\n",
       "    .dataframe thead th {\n",
       "        text-align: right;\n",
       "    }\n",
       "</style>\n",
       "<table border=\"1\" class=\"dataframe\">\n",
       "  <thead>\n",
       "    <tr style=\"text-align: right;\">\n",
       "      <th></th>\n",
       "      <th>Cement</th>\n",
       "      <th>Blast Furnace Slag</th>\n",
       "      <th>Fly Ash</th>\n",
       "      <th>Water</th>\n",
       "      <th>Superplasticizer</th>\n",
       "      <th>Coarse Aggregate</th>\n",
       "      <th>Fine Aggregate</th>\n",
       "      <th>Age</th>\n",
       "    </tr>\n",
       "  </thead>\n",
       "  <tbody>\n",
       "    <tr>\n",
       "      <th>0</th>\n",
       "      <td>540.0</td>\n",
       "      <td>0.0</td>\n",
       "      <td>0.0</td>\n",
       "      <td>162.0</td>\n",
       "      <td>2.5</td>\n",
       "      <td>1040.0</td>\n",
       "      <td>676.0</td>\n",
       "      <td>28</td>\n",
       "    </tr>\n",
       "    <tr>\n",
       "      <th>1</th>\n",
       "      <td>540.0</td>\n",
       "      <td>0.0</td>\n",
       "      <td>0.0</td>\n",
       "      <td>162.0</td>\n",
       "      <td>2.5</td>\n",
       "      <td>1055.0</td>\n",
       "      <td>676.0</td>\n",
       "      <td>28</td>\n",
       "    </tr>\n",
       "    <tr>\n",
       "      <th>2</th>\n",
       "      <td>332.5</td>\n",
       "      <td>142.5</td>\n",
       "      <td>0.0</td>\n",
       "      <td>228.0</td>\n",
       "      <td>0.0</td>\n",
       "      <td>932.0</td>\n",
       "      <td>594.0</td>\n",
       "      <td>270</td>\n",
       "    </tr>\n",
       "    <tr>\n",
       "      <th>3</th>\n",
       "      <td>332.5</td>\n",
       "      <td>142.5</td>\n",
       "      <td>0.0</td>\n",
       "      <td>228.0</td>\n",
       "      <td>0.0</td>\n",
       "      <td>932.0</td>\n",
       "      <td>594.0</td>\n",
       "      <td>365</td>\n",
       "    </tr>\n",
       "    <tr>\n",
       "      <th>4</th>\n",
       "      <td>198.6</td>\n",
       "      <td>132.4</td>\n",
       "      <td>0.0</td>\n",
       "      <td>192.0</td>\n",
       "      <td>0.0</td>\n",
       "      <td>978.4</td>\n",
       "      <td>825.5</td>\n",
       "      <td>360</td>\n",
       "    </tr>\n",
       "  </tbody>\n",
       "</table>\n",
       "</div>"
      ],
      "text/plain": [
       "   Cement  Blast Furnace Slag  Fly Ash  Water  Superplasticizer  \\\n",
       "0   540.0                 0.0      0.0  162.0               2.5   \n",
       "1   540.0                 0.0      0.0  162.0               2.5   \n",
       "2   332.5               142.5      0.0  228.0               0.0   \n",
       "3   332.5               142.5      0.0  228.0               0.0   \n",
       "4   198.6               132.4      0.0  192.0               0.0   \n",
       "\n",
       "   Coarse Aggregate  Fine Aggregate  Age  \n",
       "0            1040.0           676.0   28  \n",
       "1            1055.0           676.0   28  \n",
       "2             932.0           594.0  270  \n",
       "3             932.0           594.0  365  \n",
       "4             978.4           825.5  360  "
      ]
     },
     "execution_count": 5,
     "metadata": {},
     "output_type": "execute_result"
    }
   ],
   "source": [
    "predictors.head()"
   ]
  },
  {
   "cell_type": "code",
   "execution_count": 6,
   "id": "1dd0c03a",
   "metadata": {},
   "outputs": [
    {
     "data": {
      "text/plain": [
       "0    79.99\n",
       "1    61.89\n",
       "2    40.27\n",
       "3    41.05\n",
       "4    44.30\n",
       "Name: Strength, dtype: float64"
      ]
     },
     "execution_count": 6,
     "metadata": {},
     "output_type": "execute_result"
    }
   ],
   "source": [
    "target.head()"
   ]
  },
  {
   "cell_type": "code",
   "execution_count": 7,
   "id": "8bd4d85d",
   "metadata": {},
   "outputs": [
    {
     "data": {
      "text/plain": [
       "8"
      ]
     },
     "execution_count": 7,
     "metadata": {},
     "output_type": "execute_result"
    }
   ],
   "source": [
    "n_cols = predictors.shape[1]\n",
    "n_cols"
   ]
  },
  {
   "cell_type": "markdown",
   "id": "e9338601",
   "metadata": {},
   "source": [
    "###### Import Keras"
   ]
  },
  {
   "cell_type": "code",
   "execution_count": 8,
   "id": "97080c87",
   "metadata": {},
   "outputs": [],
   "source": [
    "import tensorflow\n",
    "\n",
    "from tensorflow import keras"
   ]
  },
  {
   "cell_type": "code",
   "execution_count": 9,
   "id": "08381346",
   "metadata": {},
   "outputs": [],
   "source": [
    "from keras.models import Sequential\n",
    "from keras.layers import Dense"
   ]
  },
  {
   "cell_type": "markdown",
   "id": "9a06575f",
   "metadata": {},
   "source": [
    "###### Build a Neural Network\n",
    "\n",
    "Let's define a function that defines our regression model for us so that we can conveniently call it to create our model."
   ]
  },
  {
   "cell_type": "code",
   "execution_count": 10,
   "id": "9d330b7e",
   "metadata": {},
   "outputs": [],
   "source": [
    "# Define our regression model\n",
    "def regression_model():\n",
    "    # create model\n",
    "    model = Sequential()\n",
    "    model.add(Dense(10, activation='relu', input_shape=(n_cols,)))\n",
    "    model.add(Dense(1))\n",
    "    \n",
    "    # compile model\n",
    "    model.compile(optimizer='adam', loss='mean_squared_error')\n",
    "    return model"
   ]
  },
  {
   "cell_type": "markdown",
   "id": "e071e6dc",
   "metadata": {},
   "source": [
    "The above function creates a model that has one hidden layer with 10 neurons and a ReLU activation function. It uses the adam optimizer and the mean squared error as the loss function."
   ]
  },
  {
   "cell_type": "markdown",
   "id": "8b49add2",
   "metadata": {},
   "source": [
    "Let's import scikit-learn in order to randomly split the data into a training and test sets"
   ]
  },
  {
   "cell_type": "code",
   "execution_count": 11,
   "id": "fb5e4189",
   "metadata": {},
   "outputs": [],
   "source": [
    "from sklearn.model_selection import train_test_split\n",
    "\n",
    "X_train, X_test, y_train, y_test = train_test_split(predictors, target, test_size=0.3, random_state=42)"
   ]
  },
  {
   "cell_type": "markdown",
   "id": "fa65f795",
   "metadata": {},
   "source": [
    "###### Train and Test the Network\n",
    "\n",
    "Let's call the function now to create our model."
   ]
  },
  {
   "cell_type": "code",
   "execution_count": 12,
   "id": "1fbc8937",
   "metadata": {},
   "outputs": [],
   "source": [
    "# build the model\n",
    "\n",
    "model = regression_model()"
   ]
  },
  {
   "cell_type": "markdown",
   "id": "2b2e6244",
   "metadata": {},
   "source": [
    "Next, we will train the model for 50 epochs."
   ]
  },
  {
   "cell_type": "code",
   "execution_count": 13,
   "id": "6c18d13b",
   "metadata": {},
   "outputs": [
    {
     "name": "stdout",
     "output_type": "stream",
     "text": [
      "Epoch 1/50\n",
      "23/23 [==============================] - 1s 3ms/step - loss: 268125.2812\n",
      "Epoch 2/50\n",
      "23/23 [==============================] - 0s 2ms/step - loss: 135945.3906\n",
      "Epoch 3/50\n",
      "23/23 [==============================] - 0s 2ms/step - loss: 63943.9297\n",
      "Epoch 4/50\n",
      "23/23 [==============================] - 0s 2ms/step - loss: 29018.3945\n",
      "Epoch 5/50\n",
      "23/23 [==============================] - 0s 3ms/step - loss: 13597.7490\n",
      "Epoch 6/50\n",
      "23/23 [==============================] - 0s 3ms/step - loss: 7494.1514\n",
      "Epoch 7/50\n",
      "23/23 [==============================] - 0s 3ms/step - loss: 5378.8174\n",
      "Epoch 8/50\n",
      "23/23 [==============================] - 0s 3ms/step - loss: 4610.4644\n",
      "Epoch 9/50\n",
      "23/23 [==============================] - 0s 3ms/step - loss: 4344.3799\n",
      "Epoch 10/50\n",
      "23/23 [==============================] - 0s 3ms/step - loss: 4180.9224\n",
      "Epoch 11/50\n",
      "23/23 [==============================] - 0s 3ms/step - loss: 4040.1702\n",
      "Epoch 12/50\n",
      "23/23 [==============================] - 0s 3ms/step - loss: 3907.5828\n",
      "Epoch 13/50\n",
      "23/23 [==============================] - 0s 3ms/step - loss: 3774.4937\n",
      "Epoch 14/50\n",
      "23/23 [==============================] - 0s 2ms/step - loss: 3642.1741\n",
      "Epoch 15/50\n",
      "23/23 [==============================] - 0s 2ms/step - loss: 3510.3450\n",
      "Epoch 16/50\n",
      "23/23 [==============================] - 0s 4ms/step - loss: 3379.3877\n",
      "Epoch 17/50\n",
      "23/23 [==============================] - 0s 2ms/step - loss: 3251.2791\n",
      "Epoch 18/50\n",
      "23/23 [==============================] - 0s 3ms/step - loss: 3122.4011\n",
      "Epoch 19/50\n",
      "23/23 [==============================] - 0s 3ms/step - loss: 3000.1384\n",
      "Epoch 20/50\n",
      "23/23 [==============================] - 0s 3ms/step - loss: 2878.2405\n",
      "Epoch 21/50\n",
      "23/23 [==============================] - 0s 3ms/step - loss: 2759.8257\n",
      "Epoch 22/50\n",
      "23/23 [==============================] - 0s 3ms/step - loss: 2647.2998\n",
      "Epoch 23/50\n",
      "23/23 [==============================] - 0s 3ms/step - loss: 2540.2769\n",
      "Epoch 24/50\n",
      "23/23 [==============================] - 0s 2ms/step - loss: 2430.5242\n",
      "Epoch 25/50\n",
      "23/23 [==============================] - 0s 3ms/step - loss: 2331.9255\n",
      "Epoch 26/50\n",
      "23/23 [==============================] - 0s 3ms/step - loss: 2226.8958\n",
      "Epoch 27/50\n",
      "23/23 [==============================] - 0s 3ms/step - loss: 2129.2327\n",
      "Epoch 28/50\n",
      "23/23 [==============================] - 0s 3ms/step - loss: 2035.4141\n",
      "Epoch 29/50\n",
      "23/23 [==============================] - 0s 3ms/step - loss: 1946.4314\n",
      "Epoch 30/50\n",
      "23/23 [==============================] - 0s 2ms/step - loss: 1861.6274\n",
      "Epoch 31/50\n",
      "23/23 [==============================] - 0s 3ms/step - loss: 1780.6123\n",
      "Epoch 32/50\n",
      "23/23 [==============================] - 0s 3ms/step - loss: 1698.7393\n",
      "Epoch 33/50\n",
      "23/23 [==============================] - 0s 3ms/step - loss: 1624.3346\n",
      "Epoch 34/50\n",
      "23/23 [==============================] - 0s 3ms/step - loss: 1546.9570\n",
      "Epoch 35/50\n",
      "23/23 [==============================] - 0s 3ms/step - loss: 1476.8031\n",
      "Epoch 36/50\n",
      "23/23 [==============================] - 0s 3ms/step - loss: 1413.4275\n",
      "Epoch 37/50\n",
      "23/23 [==============================] - 0s 2ms/step - loss: 1349.9323\n",
      "Epoch 38/50\n",
      "23/23 [==============================] - 0s 2ms/step - loss: 1288.0581\n",
      "Epoch 39/50\n",
      "23/23 [==============================] - 0s 2ms/step - loss: 1231.4208\n",
      "Epoch 40/50\n",
      "23/23 [==============================] - 0s 2ms/step - loss: 1179.2300\n",
      "Epoch 41/50\n",
      "23/23 [==============================] - 0s 2ms/step - loss: 1125.2788\n",
      "Epoch 42/50\n",
      "23/23 [==============================] - 0s 2ms/step - loss: 1076.9786\n",
      "Epoch 43/50\n",
      "23/23 [==============================] - 0s 2ms/step - loss: 1029.6189\n",
      "Epoch 44/50\n",
      "23/23 [==============================] - 0s 2ms/step - loss: 986.0983\n",
      "Epoch 45/50\n",
      "23/23 [==============================] - 0s 2ms/step - loss: 942.7169\n",
      "Epoch 46/50\n",
      "23/23 [==============================] - 0s 2ms/step - loss: 902.4261\n",
      "Epoch 47/50\n",
      "23/23 [==============================] - 0s 2ms/step - loss: 865.0433\n",
      "Epoch 48/50\n",
      "23/23 [==============================] - 0s 2ms/step - loss: 828.1337\n",
      "Epoch 49/50\n",
      "23/23 [==============================] - 0s 2ms/step - loss: 793.2696\n",
      "Epoch 50/50\n",
      "23/23 [==============================] - 0s 2ms/step - loss: 760.2632\n"
     ]
    },
    {
     "data": {
      "text/plain": [
       "<keras.callbacks.History at 0x27c4fbc9340>"
      ]
     },
     "execution_count": 13,
     "metadata": {},
     "output_type": "execute_result"
    }
   ],
   "source": [
    "# fit the model\n",
    "\n",
    "model.fit(X_train, y_train, epochs=50, verbose=1)"
   ]
  },
  {
   "cell_type": "markdown",
   "id": "8f8942c5",
   "metadata": {},
   "source": [
    "We evaluate our model on test dataset"
   ]
  },
  {
   "cell_type": "code",
   "execution_count": 14,
   "id": "01de1aab",
   "metadata": {},
   "outputs": [
    {
     "name": "stdout",
     "output_type": "stream",
     "text": [
      "10/10 [==============================] - 0s 3ms/step - loss: 834.6440\n",
      "10/10 [==============================] - 0s 2ms/step\n"
     ]
    },
    {
     "data": {
      "text/plain": [
       "834.64404296875"
      ]
     },
     "execution_count": 14,
     "metadata": {},
     "output_type": "execute_result"
    }
   ],
   "source": [
    "loss_val = model.evaluate(X_test, y_test)\n",
    "y_pred = model.predict(X_test)\n",
    "loss_val"
   ]
  },
  {
   "cell_type": "markdown",
   "id": "422410db",
   "metadata": {},
   "source": [
    "Now we need to compute the mean squared error between the predicted concrete strength and the actual concrete strength.\n",
    "\n",
    "Let's import the mean_squared_error function from Scikit-learn"
   ]
  },
  {
   "cell_type": "code",
   "execution_count": 15,
   "id": "dcada393",
   "metadata": {},
   "outputs": [
    {
     "name": "stdout",
     "output_type": "stream",
     "text": [
      "834.6440590868693 0.0\n"
     ]
    }
   ],
   "source": [
    "from sklearn.metrics import mean_squared_error\n",
    "\n",
    "mean_square_error = mean_squared_error(y_test, y_pred)\n",
    "mean = np.mean(mean_square_error)\n",
    "standard_deviation = np.std(mean_square_error)\n",
    "print(mean, standard_deviation)"
   ]
  },
  {
   "cell_type": "markdown",
   "id": "5cf22752",
   "metadata": {},
   "source": [
    "Create a list of 50 mean squared errors and report mean and the standard deviation of the mean squared errors."
   ]
  },
  {
   "cell_type": "code",
   "execution_count": 16,
   "id": "5628a783",
   "metadata": {},
   "outputs": [
    {
     "name": "stdout",
     "output_type": "stream",
     "text": [
      "MSE 1: 182.8684844970703\n",
      "10/10 [==============================] - 0s 2ms/step\n",
      "MSE 2: 137.76898193359375\n",
      "10/10 [==============================] - 0s 2ms/step\n",
      "MSE 3: 113.6091079711914\n",
      "10/10 [==============================] - 0s 2ms/step\n",
      "MSE 4: 133.7347869873047\n",
      "10/10 [==============================] - 0s 2ms/step\n",
      "MSE 5: 127.13549041748047\n",
      "10/10 [==============================] - 0s 2ms/step\n",
      "MSE 6: 112.77537536621094\n",
      "10/10 [==============================] - 0s 2ms/step\n",
      "MSE 7: 142.32391357421875\n",
      "10/10 [==============================] - 0s 2ms/step\n",
      "MSE 8: 113.53304290771484\n",
      "10/10 [==============================] - 0s 2ms/step\n",
      "MSE 9: 148.361572265625\n",
      "10/10 [==============================] - 0s 2ms/step\n",
      "MSE 10: 110.90178680419922\n",
      "10/10 [==============================] - 0s 3ms/step\n",
      "MSE 11: 102.64631652832031\n",
      "10/10 [==============================] - 0s 2ms/step\n",
      "MSE 12: 101.43494415283203\n",
      "10/10 [==============================] - 0s 2ms/step\n",
      "MSE 13: 122.32654571533203\n",
      "10/10 [==============================] - 0s 2ms/step\n",
      "MSE 14: 121.1536865234375\n",
      "10/10 [==============================] - 0s 3ms/step\n",
      "MSE 15: 114.41082763671875\n",
      "10/10 [==============================] - 0s 3ms/step\n",
      "MSE 16: 105.7099609375\n",
      "10/10 [==============================] - 0s 2ms/step\n",
      "MSE 17: 104.52316284179688\n",
      "10/10 [==============================] - 0s 2ms/step\n",
      "MSE 18: 95.53245544433594\n",
      "10/10 [==============================] - 0s 2ms/step\n",
      "MSE 19: 94.68311309814453\n",
      "10/10 [==============================] - 0s 2ms/step\n",
      "MSE 20: 124.23605346679688\n",
      "10/10 [==============================] - 0s 2ms/step\n",
      "MSE 21: 97.1854476928711\n",
      "10/10 [==============================] - 0s 2ms/step\n",
      "MSE 22: 115.74805450439453\n",
      "10/10 [==============================] - 0s 2ms/step\n",
      "MSE 23: 123.714111328125\n",
      "10/10 [==============================] - 0s 2ms/step\n",
      "MSE 24: 105.0172119140625\n",
      "10/10 [==============================] - 0s 2ms/step\n",
      "MSE 25: 110.14683532714844\n",
      "10/10 [==============================] - 0s 2ms/step\n",
      "MSE 26: 101.20457458496094\n",
      "10/10 [==============================] - 0s 2ms/step\n",
      "MSE 27: 119.10635375976562\n",
      "10/10 [==============================] - 0s 2ms/step\n",
      "MSE 28: 109.84941101074219\n",
      "10/10 [==============================] - 0s 2ms/step\n",
      "MSE 29: 110.60637664794922\n",
      "10/10 [==============================] - 0s 3ms/step\n",
      "MSE 30: 121.09532928466797\n",
      "10/10 [==============================] - 0s 2ms/step\n",
      "MSE 31: 135.5966796875\n",
      "10/10 [==============================] - 0s 3ms/step\n",
      "MSE 32: 115.98591613769531\n",
      "10/10 [==============================] - 0s 2ms/step\n",
      "MSE 33: 102.268798828125\n",
      "10/10 [==============================] - 0s 2ms/step\n",
      "MSE 34: 118.87645721435547\n",
      "10/10 [==============================] - 0s 2ms/step\n",
      "MSE 35: 124.54346466064453\n",
      "10/10 [==============================] - 0s 2ms/step\n",
      "MSE 36: 125.6996078491211\n",
      "10/10 [==============================] - 0s 2ms/step\n",
      "MSE 37: 135.93345642089844\n",
      "10/10 [==============================] - 0s 2ms/step\n",
      "MSE 38: 117.10539245605469\n",
      "10/10 [==============================] - 0s 2ms/step\n",
      "MSE 39: 120.25785064697266\n",
      "10/10 [==============================] - 0s 2ms/step\n",
      "MSE 40: 116.92547607421875\n",
      "10/10 [==============================] - 0s 2ms/step\n",
      "MSE 41: 119.50843048095703\n",
      "10/10 [==============================] - 0s 3ms/step\n",
      "MSE 42: 112.31134796142578\n",
      "10/10 [==============================] - 0s 3ms/step\n",
      "MSE 43: 107.7113037109375\n",
      "10/10 [==============================] - 0s 2ms/step\n",
      "MSE 44: 110.60530090332031\n",
      "10/10 [==============================] - 0s 2ms/step\n",
      "MSE 45: 115.60983276367188\n",
      "10/10 [==============================] - 0s 2ms/step\n",
      "MSE 46: 116.8134765625\n",
      "10/10 [==============================] - 0s 2ms/step\n",
      "MSE 47: 112.43328094482422\n",
      "10/10 [==============================] - 0s 2ms/step\n",
      "MSE 48: 121.93346405029297\n",
      "10/10 [==============================] - 0s 2ms/step\n",
      "MSE 49: 103.03602600097656\n",
      "10/10 [==============================] - 0s 2ms/step\n",
      "MSE 50: 121.30765533447266\n",
      "10/10 [==============================] - 0s 2ms/step\n",
      "\n",
      "\n",
      "Below is the mean and standard deviation of 50 mean squared errors without normalized data. Total number of epochs for each training is: 50\n",
      "\n",
      "Mean: 117.55612827765827\n",
      "Standard Deviation: 14.90873299124063\n"
     ]
    }
   ],
   "source": [
    "total_mean_squared_errors = 50\n",
    "epochs = 50\n",
    "mean_squared_errors = []\n",
    "for i in range(0, total_mean_squared_errors):\n",
    "    X_train, X_test, y_train, y_test = train_test_split(predictors, target, test_size=0.3, random_state=i)\n",
    "    model.fit(X_train, y_train, epochs=epochs, verbose=0)\n",
    "    MSE = model.evaluate(X_test, y_test, verbose=0)\n",
    "    print(\"MSE \" + str(i+1) + \": \" + str(MSE))\n",
    "    y_pred = model.predict(X_test)\n",
    "    mean_square_error = mean_squared_error(y_test, y_pred)\n",
    "    mean_squared_errors.append(mean_square_error)\n",
    "\n",
    "mean_squared_errors = np.array(mean_squared_errors)\n",
    "mean = np.mean(mean_squared_errors)\n",
    "standard_deviation = np.std(mean_squared_errors)\n",
    "\n",
    "print('\\n')\n",
    "print(\"Below is the mean and standard deviation of \" + str(total_mean_squared_errors) + \" mean squared errors without normalized data. Total number of epochs for each training is: \" + str(epochs) + \"\\n\")\n",
    "print(\"Mean: \" + str(mean))\n",
    "print(\"Standard Deviation: \" + str(standard_deviation))"
   ]
  },
  {
   "cell_type": "code",
   "execution_count": null,
   "id": "5a776cb2",
   "metadata": {},
   "outputs": [],
   "source": []
  }
 ],
 "metadata": {
  "kernelspec": {
   "display_name": "Python 3 (ipykernel)",
   "language": "python",
   "name": "python3"
  },
  "language_info": {
   "codemirror_mode": {
    "name": "ipython",
    "version": 3
   },
   "file_extension": ".py",
   "mimetype": "text/x-python",
   "name": "python",
   "nbconvert_exporter": "python",
   "pygments_lexer": "ipython3",
   "version": "3.9.7"
  }
 },
 "nbformat": 4,
 "nbformat_minor": 5
}
